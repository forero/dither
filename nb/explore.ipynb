{
 "cells": [
  {
   "cell_type": "code",
   "execution_count": 1,
   "metadata": {},
   "outputs": [],
   "source": [
    "import numpy as np\n",
    "import matplotlib.pyplot as plt"
   ]
  },
  {
   "cell_type": "code",
   "execution_count": 5,
   "metadata": {},
   "outputs": [],
   "source": [
    "fields = np.loadtxt(\"../data/fields.dat\", \n",
    "                   dtype={'names': ('TILEID','RA','DEC','GALB','STARS','IN_IMAGING'),\n",
    "                          'formats': ('i4', 'f8', 'f8', 'f8', 'i4', 'i4')})"
   ]
  },
  {
   "cell_type": "code",
   "execution_count": 7,
   "metadata": {},
   "outputs": [
    {
     "data": {
      "text/plain": [
       "array([4929,  992, 2346, 2437,  618,  279,  307, 1986, 5009, 3177, 3156,\n",
       "       3105, 2131, 3476, 3390, 5259, 5247, 2551,  509,  453, 5481,  541,\n",
       "       1593, 4319, 2898, 3846, 3800, 5389, 2725, 3397, 5732,  120, 1222,\n",
       "         87, 5498, 1103, 1605, 1955, 3064, 1819, 5358, 5331, 5454, 2984,\n",
       "       3901, 3935, 1209, 2449,  402,  419, 1418, 3633, 1547, 1513],\n",
       "      dtype=int32)"
      ]
     },
     "execution_count": 7,
     "metadata": {},
     "output_type": "execute_result"
    }
   ],
   "source": []
  },
  {
   "cell_type": "code",
   "execution_count": null,
   "metadata": {},
   "outputs": [],
   "source": []
  }
 ],
 "metadata": {
  "kernelspec": {
   "display_name": "DESI master",
   "language": "python",
   "name": "desi-master"
  },
  "language_info": {
   "codemirror_mode": {
    "name": "ipython",
    "version": 3
   },
   "file_extension": ".py",
   "mimetype": "text/x-python",
   "name": "python",
   "nbconvert_exporter": "python",
   "pygments_lexer": "ipython3",
   "version": "3.8.3"
  }
 },
 "nbformat": 4,
 "nbformat_minor": 4
}
